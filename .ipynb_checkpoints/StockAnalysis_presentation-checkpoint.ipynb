{
 "cells": [
  {
   "cell_type": "markdown",
   "metadata": {},
   "source": [
    "# Stock Correlation Analysis"
   ]
  },
  {
   "cell_type": "code",
   "execution_count": null,
   "metadata": {},
   "outputs": [],
   "source": [
    "import os\n",
    "os.chdir('C:\\\\Users\\\\hesam\\\\Stock_analysis_python')"
   ]
  },
  {
   "cell_type": "markdown",
   "metadata": {},
   "source": [
    "# Background"
   ]
  },
  {
   "cell_type": "markdown",
   "metadata": {},
   "source": [
    "**Correlation coefficient is a centeral component of Modern Portfolio Theory (MPT).** MPT stresses that investors should look for a consistently uncorrelated pool of assets to limit risk. In prctical terms, that virtually guarantees a diversified portfolio.\n",
    "\n",
    "Correlation statistics can be used in finance and investing. The correlation coefficient has limited ability in predicting returns in the stock for individual stocks. Still, the statistical measurement may have value in predicting the extent to which two stocks move in relation to each other because the correlation coefficient is a measure of the relationship between how two stocks move in tandem with each other, as well as the strength of that relationship. "
   ]
  },
  {
   "cell_type": "markdown",
   "metadata": {},
   "source": [
    "Here is a sample of common type of visualization of correlation coefficient that is used for security invesments."
   ]
  },
  {
   "cell_type": "markdown",
   "metadata": {},
   "source": [
    "<img src=\"image/2017correl.png\">"
   ]
  },
  {
   "cell_type": "markdown",
   "metadata": {},
   "source": [
    "### Correlation Coefficient"
   ]
  },
  {
   "cell_type": "markdown",
   "metadata": {},
   "source": [
    "Correlation coefficient is a statistical measure of the strength of the relationship between the relative movements of two variables. The Values range between -1.0 and 1.0. A correlation of -1.0 shows a perfect negative correlation while a correlation of 1.0 shows a perfect positive correlation.\n",
    "There are several types of correlation coefficients, but the one that is most common is the pearson correlation (r). This measures the strength and direction of the linear relationship between two variables. <a href=\"https://www.investopedia.com/terms/c/correlationcoefficient.asp\"> Source: Investopedia.com</a>"
   ]
  },
  {
   "cell_type": "markdown",
   "metadata": {},
   "source": [
    "### Problem with Correlation Coefficient"
   ]
  },
  {
   "cell_type": "markdown",
   "metadata": {},
   "source": [
    "One of the main criticisms of MPT is that **it assumes the correlation between assets is static over time**. In reality, correlations often shift, especially during periods of higher volatility. (<a href=\"https://www.investopedia.com/ask/answers/051315/how-can-i-use-correlation-coefficient-predict-returns-stock-market.asp#:~:text=The%20correlation%20coefficient%20is%20measured,direction%20by%20the%20same%20amount.\">Investopedia.com</a>)"
   ]
  },
  {
   "cell_type": "markdown",
   "metadata": {},
   "source": [
    "# Project Objective"
   ]
  },
  {
   "cell_type": "markdown",
   "metadata": {},
   "source": [
    "In this project I want to use historical data for stock prices to represent a new way of looking at correlation between stocks that considers changes in the correlation coefficient over time. In other words, I want to use data to help investors diversify their investment portfolio by having a better understanding of stock price correlations over time.\n",
    "\n",
    "By considering the changes in the stock price of a company and comparing those changes with other companies, I hope to get some insights on the relations between companies that cannot be easily understood by following news or studying static correlation coefficient tables. "
   ]
  },
  {
   "cell_type": "markdown",
   "metadata": {},
   "source": [
    "# Project Stages"
   ]
  },
  {
   "cell_type": "markdown",
   "metadata": {},
   "source": [
    "This project had been passed 5 stages of progress to get to this point:\n",
    "- Stage 1: Gathering Data\n",
    "- Stage 2: Cleaning and Processing Data\n",
    "- Stage 3: Converting Data to Pandas DataFrame\n",
    "- Stage 4: Visualizing Data"
   ]
  },
  {
   "cell_type": "markdown",
   "metadata": {},
   "source": [
    "# Stage 1: Gathering Data"
   ]
  },
  {
   "cell_type": "markdown",
   "metadata": {},
   "source": [
    "## <font color=\"green\">Challenge: Connecting to API and save updatable datasets on local machine</font>"
   ]
  },
  {
   "cell_type": "markdown",
   "metadata": {},
   "source": [
    "for gathering required data, I was trying to use [finnhub.io](http://finnhub.io) API as the source where I can get data from. This API had a good documentation and I was able to connect to the API and get the data easily by using the following lines of code and save the data in .csv files on my computer:"
   ]
  },
  {
   "cell_type": "code",
   "execution_count": null,
   "metadata": {},
   "outputs": [],
   "source": [
    "#Set start and end date here and by running update_dataset function, the functions in this cell will be automatically called\n",
    "\n",
    "start_date = \"01/01/2019\"\n",
    "till_date = \"01/01/2020\"\n",
    "def get_dates():\n",
    "    return start_date, till_date\n",
    "\n",
    "# Helper functions for converting human-readable dates \n",
    "def date_convertor(date):\n",
    "    '''\n",
    "        date_convertor function takes the human readable date in DD/MM/YYYY format and returns Unix\n",
    "    Timestamp in integer format\n",
    "    '''\n",
    "    #convert the time to UNIX timestamp\n",
    "    import time\n",
    "    result = int(time.mktime(time.strptime(date, \"%d/%m/%Y\")))\n",
    "    return result #Returns Integer type\n",
    "    \n",
    "\n",
    "def timestamp_convertor(timestamp):\n",
    "    \"\"\"\n",
    "    UNIX timestamp convertor\n",
    "\n",
    "    timestamp_converot function takes the UNIX timestamp format and returns human readable date in\n",
    "    YYYY/MM/DD format\n",
    "    \"\"\"\n",
    "    import datetime\n",
    "    result = datetime.datetime.fromtimestamp(int(timestamp)).strftime('%Y-%m-%d')\n",
    "    return result #Returns String type"
   ]
  },
  {
   "cell_type": "code",
   "execution_count": null,
   "metadata": {},
   "outputs": [],
   "source": [
    "#Run this function on\n",
    "def get_companies_info():\n",
    "    with open (\"data_sets\\\\S&P500-Info.csv\",\"r\") as f:\n",
    "        companies = f.readlines()\n",
    "    \n",
    "    \n",
    "    company_list = []\n",
    "    company_dictionary = {}\n",
    "    \n",
    "    for line in companies:\n",
    "        line_list = line.strip('\\n').split(\",\")\n",
    "        company_list.append(line_list)\n",
    "        # company_dictionary[line[1]]=line[2:]\n",
    "    # symbols = companies[:]\n",
    "    #print (company_list)\n",
    "    dictionary_guide ={}\n",
    "    dictionary_guide[company_list[0][1]]=company_list[0][2:]\n",
    "    \n",
    "    \n",
    "    #print(\"Dictionary Guide: \",dictionary_guide)\n",
    "    \n",
    "    #get 100 companies in SP500\n",
    "    for company in company_list[0:101]:\n",
    "        company_dictionary[company[1]]=company[2:]\n",
    "        \n",
    "    return company_dictionary"
   ]
  },
  {
   "cell_type": "code",
   "execution_count": null,
   "metadata": {},
   "outputs": [],
   "source": [
    "companies = get_companies_info()"
   ]
  },
  {
   "cell_type": "markdown",
   "metadata": {},
   "source": [
    "### <font color = red>Run update_dataset function just one time to update all the csv files on the directory</font>"
   ]
  },
  {
   "cell_type": "code",
   "execution_count": null,
   "metadata": {},
   "outputs": [],
   "source": [
    "def update_dataset():\n",
    "    '''\n",
    "    Function for updating all the files in the database\n",
    "    '''\n",
    "    \n",
    "    start_date, end_date = get_dates()\n",
    "\n",
    "    import os\n",
    "    import finnhub\n",
    "    import pandas as pd\n",
    "\n",
    "       \n",
    "    companies = get_companies_info()\n",
    "    \n",
    "    start_date, end_date = date_convertor(start_date), date_convertor(end_date)\n",
    "    print(start_date, end_date)\n",
    "    \n",
    "    os.chdir(\"data_sets\")\n",
    "    \n",
    "    # Setup client for Finnhub API\n",
    "    finnhub_client = finnhub.Client(api_key =\"bui229f48v6rfhsb6s50\")\n",
    "    \n",
    "    for company in companies:\n",
    "        try:\n",
    "            print(company)   \n",
    "            # Stock candles\n",
    "            res = finnhub_client.stock_candles(company, 'D', start_date, end_date)\n",
    "            #print(res)\n",
    "            \n",
    "            #Convert to Pandas Dataframe \n",
    "            response = pd.DataFrame(res)  \n",
    "            \n",
    "            #Write the CSV file out of data frame\n",
    "            response_csv = response.to_csv(f\"{company}.csv\")\n",
    "        except:\n",
    "            print(company, 'no data found ...')"
   ]
  },
  {
   "cell_type": "code",
   "execution_count": null,
   "metadata": {},
   "outputs": [],
   "source": [
    "update_dataset()"
   ]
  },
  {
   "cell_type": "code",
   "execution_count": null,
   "metadata": {},
   "outputs": [],
   "source": [
    "with open (\"data_sets\\\\AAPL.csv\",\"r\") as f:\n",
    "        sample = f.readlines()"
   ]
  },
  {
   "cell_type": "code",
   "execution_count": null,
   "metadata": {},
   "outputs": [],
   "source": [
    "sample"
   ]
  },
  {
   "cell_type": "markdown",
   "metadata": {},
   "source": [
    "# Stage 2: Cleaning and Processing Data"
   ]
  },
  {
   "cell_type": "markdown",
   "metadata": {},
   "source": [
    "## <font color=\"green\">Challenge: Calculating price changes for each pair of consecutive days </font>"
   ]
  },
  {
   "cell_type": "markdown",
   "metadata": {},
   "source": [
    "the output of the last step is 100 csv files saved on the computer. These files contain stock price of each company for each day within the timeframe specified. However, what I need is the price change from day to day. For this purpose I considered the 'closing' price as the one that I need. Now I have to read each file, get the closing price of each day and calculate the \n",
    "\n",
    "(c_day(n) - c_day(n-1)) where 'c' is the closing price.\n",
    "\n",
    "To do the job, I first defined a function for reading each file and used a for loop to go over all the files and read them:"
   ]
  },
  {
   "cell_type": "code",
   "execution_count": null,
   "metadata": {},
   "outputs": [],
   "source": [
    "def get_company_data(company):\n",
    "    '''\n",
    "    Function for returning information about specific company\n",
    "    '''\n",
    "    os.getcwd()\n",
    "    with open (f\"{company}.csv\", \"r\") as c:\n",
    "        company_data = c.readlines()\n",
    "    return company_data[1:]"
   ]
  },
  {
   "cell_type": "markdown",
   "metadata": {},
   "source": [
    "### Defining a data structure to keep all required data in a single object"
   ]
  },
  {
   "cell_type": "markdown",
   "metadata": {},
   "source": [
    "For the purpose of this project, I need 3 data points for my calculations:\n",
    "- Price change in each pair of dates\n",
    "- Percent of change in each pair of dates\n",
    "- A pair of consecutive dates"
   ]
  },
  {
   "cell_type": "code",
   "execution_count": null,
   "metadata": {},
   "outputs": [],
   "source": [
    "#Object for having a data structure for the type of information that I want to store for my \n",
    "#furthur calculations in the program\n",
    "\n",
    "class DeltaObject:\n",
    "    def __init__(self, delta_change, percent_change, dates):\n",
    "        self.change = delta_change\n",
    "        self.percent = percent_change\n",
    "        self.dates = dates\n",
    "    def __repr__(self):\n",
    "        return f'{self.change},{self.percent},{self.dates}'"
   ]
  },
  {
   "cell_type": "markdown",
   "metadata": {},
   "source": [
    "Now I can create a dictionary in which each company will be a key in this dictionary and a list of all objects of type DeltaObject is the value for that key. "
   ]
  },
  {
   "cell_type": "code",
   "execution_count": null,
   "metadata": {},
   "outputs": [],
   "source": [
    "def refine_companies_records():\n",
    "    '''\n",
    "    Function for getting a dictionary for all the changes in prices in the gathered files\n",
    "    and calculating price changes \n",
    "    ''' \n",
    "    import os\n",
    "    from classes import DeltaObject\n",
    "    \n",
    "    companies = get_companies_info()\n",
    "    os.chdir('data_sets')\n",
    "    files = os.listdir()\n",
    "    companies_records = {}\n",
    "    \n",
    "    #get company data for each company that exists in file directory\n",
    "    for company in companies:\n",
    "        #print (True)\n",
    "        if (company + '.csv') in files:\n",
    "            # print('in files: ', True)\n",
    "            company_data = get_company_data(company)\n",
    "            \n",
    "        #get close prices in a list to use for calculating price change and percent change\n",
    "            close_price_list = []\n",
    "            for line in company_data:\n",
    "                date_price = []\n",
    "                line = line.strip('\\n').split(',')\n",
    "                #close_price_list.append(line[1])\n",
    "                date_price.append(line[1])\n",
    "                date_price.append(line[6])\n",
    "                close_price_list.append(date_price)\n",
    "            \n",
    "            \n",
    "        #calculate the change in prices each day, percent change and pair of dates and use these datapoints to creaat an instance\n",
    "        #of DeltaObject and append it to the change_list. \n",
    "            change_list = []\n",
    "            for i in range(1,len(close_price_list)):    \n",
    "                delta_change = float(close_price_list[i][0]) - float(close_price_list[i-1][0])\n",
    "                percent_change = delta_change / float(close_price_list[i-1][0])\n",
    "                dates =(close_price_list[i-1][1],close_price_list[i][1])\n",
    "                               \n",
    "                change_list.append(DeltaObject(delta_change,percent_change,dates))\n",
    "                \n",
    "            #Create an item in the dictionary of companies_records in which company is the key and change_list is the value\n",
    "            companies_records[company]= change_list\n",
    "                     \n",
    "    return companies_records"
   ]
  },
  {
   "cell_type": "code",
   "execution_count": 165,
   "metadata": {},
   "outputs": [],
   "source": [
    "companies_records = refine_companies_records()"
   ]
  },
  {
   "cell_type": "markdown",
   "metadata": {},
   "source": [
    "# Stage 3: Converting Data to DataFrame to create a graph "
   ]
  },
  {
   "cell_type": "markdown",
   "metadata": {},
   "source": [
    "## <font color=\"green\">Challenge: Values at DataFrame must represent colors </font>"
   ]
  },
  {
   "cell_type": "markdown",
   "metadata": {},
   "source": [
    "The goal of this project is to distill the data into a simple graph that shows the interdependencies between companies' stock prices. \n",
    "\n",
    "Up to this point, I have a dictionary named `companies_records` that  entails all the information needed for price changes for each couple of existing dates in the specified timeframe.\n",
    "\n",
    "The idea is to get a graph like this:"
   ]
  },
  {
   "cell_type": "markdown",
   "metadata": {},
   "source": [
    "<img src = \"image/Frame_6.jpg\" style= \"width:400px;\">"
   ]
  },
  {
   "cell_type": "markdown",
   "metadata": {},
   "source": [
    "### This graph shows the comparison of companies W, X, Y, Z with company A in the timeframe of D1-D5. \n",
    "For example if changes in the stock price of company A is in alignment with changes in company X (i.e. both increase or both decrease), we should have a green square and if they are not (eg. A is increasing but the other one is decreasing), we should have a red square in the graph. The opacity of the color also shows the extent to which changes are same or opposite.\n",
    "\n",
    "### My Plan to get to this graph\n",
    "For getting such output, I figured out that \n",
    "\n",
    "- **I need to change my data to a dictionary in which keys are delta times, and the value for each delta time is a color tuple.**\n",
    "\n",
    "- Since I am going to use `matplotlib` library as the plotting library in Python, **I can manage the color with a tuple of `(red, green, blue, alpha)`.** \n",
    "\n",
    "- Since I only want to have two colors with different opacities, I must use one of these for each datapoint:\n",
    "\n",
    "    `(1,0,0,alpha)` for varieties of red\n",
    "\n",
    "    `(0,1,0,alpha)` for varieties of green\n",
    "    \n",
    "\n",
    "**Therefore for each  `DeltaObject` that I defined before and its values exist in the `company_data` dictionary, I can define a color tuple.** For example, if we want to get the first colored square of company 'C' in comparison with company 'A', we have to do the following:\n",
    "\n",
    "```python\n",
    "company_data = {'A':[DeltaObject0, DeltaObject1, ...], 'B': [DeltaObject0, DeltaObject1, ...], ...}\n",
    "\n",
    "selected_company = 'C'\n",
    "date_0_c = company_data['C'][0].dates\n",
    "change_0_c = company_data['C'][0].change\n",
    "percent_0_c = company_data['C'][0].percent\n",
    "\n",
    "#data for company A\n",
    "date_0_A = company_data['A'][0].dates\n",
    "change_0_A = company_data['A'][0].change\n",
    "percent_0_A = company_data['A'][0].percent\n",
    "\n",
    "change = change_0_c * change_0_A#for determining the color\n",
    "percent = percent_0_A/percent_0_c#for determining the color opacity\n",
    "\n",
    "if change >0:\n",
    "\tcolor = (0,1,0, percent)#Green color with aplpha = percent\n",
    "else:\n",
    "\tcolor = (1,0,0,percent)# Red color with alpha = percent\n",
    "\n",
    "```\n",
    "\n",
    "\n",
    "For going with this planb, the following function helps me to calculate all the datapoints in the time range specified by the user. This function takes the company data as a list of object from the DeltaObject class instances and returnas a neste dictionary in this format:\n",
    "\n",
    "`{time:{company_1:(Color tuple,..., company_n:(color_tuple))}}`"
   ]
  },
  {
   "cell_type": "code",
   "execution_count": null,
   "metadata": {},
   "outputs": [],
   "source": [
    "def get_compared_datapoints(company_data):\n",
    "    '''\n",
    "    function that takes the company data as a list of objects from the Deltaobject class and returns a nested\n",
    "    dictionary in this format {time:{company_1:(Color tuple,..., company_n:(color_tuple))}}\n",
    "    ''' \n",
    "    #let's compare data for the company with it's corrosponding data point in other companies\n",
    "    data_points = []\n",
    "    dict_of_dates = {}\n",
    "    \n",
    "    \n",
    "    ########################################## Here is the bottle neck of this program #################################\n",
    "    #for each date in the company_data get object's attributes\n",
    "    for i in company_data:\n",
    "        date = i.dates\n",
    "        change = i.change\n",
    "        percent = i.percent\n",
    "        \n",
    "        list_of_companies=[]\n",
    "        \n",
    "        #for the same date, get corresponding data of the companies that you want to compare\n",
    "        for symbol in companies_records:\n",
    "            company_to_compare = companies_records[symbol]\n",
    "            \n",
    "            \n",
    "            #for each existing date in company_to_compare dictionary\n",
    "            for k in company_to_compare:\n",
    "                \n",
    "                date_k = k.dates\n",
    "                change_k = k.change\n",
    "                percent_k = k.percent\n",
    "                \n",
    "                \n",
    "                ################################### Decide about the color of each data point here ######################\n",
    "                #if dates match, compare price changes and percent changes and set the color of the datapoint as a result\n",
    "                if date == date_k:\n",
    "                    if (change*change_k)<=0:\n",
    "                        same_change = [1,0,0] #Data point will be represented in Red color\n",
    "                    else:\n",
    "                        same_change = [0,1,0]#Data point will be represented in Green color\n",
    "                \n",
    "                    # Set Color Opacity\n",
    "                    try:\n",
    "                        relational_opacity = round(abs(percent_k/percent),2)\n",
    "                        if relational_opacity >=1:\n",
    "                            relational_opacity = 1\n",
    "                        \n",
    "                    except:\n",
    "                    \n",
    "                        relational_opacity = 0\n",
    "                        \n",
    "                    \n",
    "                    #data_point = (same_change, relational_opacity)\n",
    "                    same_change.append(relational_opacity)\n",
    "                    data_point = tuple(same_change)\n",
    "                    #print(data_point)                        \n",
    "                    data_points.append(data_point)\n",
    "                \n",
    "                    company_date_dict = {symbol:data_point}\n",
    "\n",
    "                    list_of_companies.append(company_date_dict)\n",
    "                    #counts[k]= count\n",
    "        #print('company: ', symbol, 'count: ', count, 'k', k)\n",
    "\n",
    "        dict_of_dates[date] = list_of_companies\n",
    "        \n",
    "        \n",
    "    results = dict_of_dates\n",
    "    \n",
    "    #merge separate dictionaries that are created in the last step\n",
    "    for date in results:\n",
    "        merged_dict={}\n",
    "        for d in results[date]:\n",
    "            merged_dict.update(d) \n",
    "        results[date] = merged_dict\n",
    "    #returns a nested dictionary \n",
    "\n",
    "    return results "
   ]
  },
  {
   "cell_type": "markdown",
   "metadata": {},
   "source": [
    "This function returns a dictionary that we can easily convert to a Pandas DataFrame. But before that, I need to create a touchpoint for the user to be able to specify which company they want to get comparison results for. So here is the user interface:"
   ]
  },
  {
   "cell_type": "code",
   "execution_count": 166,
   "metadata": {},
   "outputs": [],
   "source": [
    "def get_data():\n",
    "    \n",
    "    user_input= input(\"Enter the symbol of the company : \").upper()  \n",
    "    \n",
    "    if user_input in companies:\n",
    "        company_data = companies_records[user_input.upper()]\n",
    "\n",
    "        return (user_input, company_data)"
   ]
  },
  {
   "cell_type": "markdown",
   "metadata": {},
   "source": [
    "\n",
    "\n",
    "## <font color=\"red\">Run All Below</font>"
   ]
  },
  {
   "cell_type": "code",
   "execution_count": 167,
   "metadata": {},
   "outputs": [
    {
     "name": "stdout",
     "output_type": "stream",
     "text": [
      "Enter the symbol of the company : mmm\n"
     ]
    }
   ],
   "source": [
    "user_in = get_data()\n",
    "company = user_in[0]\n",
    "company_data = user_in[1]"
   ]
  },
  {
   "cell_type": "code",
   "execution_count": null,
   "metadata": {},
   "outputs": [],
   "source": [
    "company_data"
   ]
  },
  {
   "cell_type": "code",
   "execution_count": 168,
   "metadata": {},
   "outputs": [],
   "source": [
    "companies_compared = get_compared_datapoints(company_data)"
   ]
  },
  {
   "cell_type": "markdown",
   "metadata": {},
   "source": [
    "Now I can convert `companies_compared` to a Pandas DataFrame:"
   ]
  },
  {
   "cell_type": "code",
   "execution_count": 169,
   "metadata": {},
   "outputs": [],
   "source": [
    "import pandas as pd\n",
    "data_frame = pd.DataFrame(companies_compared)"
   ]
  },
  {
   "cell_type": "markdown",
   "metadata": {},
   "source": [
    "cleaning the data out of NaN values to prevent any error in visualization process"
   ]
  },
  {
   "cell_type": "code",
   "execution_count": null,
   "metadata": {},
   "outputs": [],
   "source": [
    "#try:\n",
    "data_frame.fillna(method = 'bfill')\n",
    "#except:\n",
    "data_frame.fillna(0)\n",
    "    \n",
    "#data_frame.isna()\n",
    "#data_frame.dropna(how = 'any')"
   ]
  },
  {
   "cell_type": "markdown",
   "metadata": {},
   "source": [
    "# Stage 4: Visualizing Data"
   ]
  },
  {
   "cell_type": "markdown",
   "metadata": {},
   "source": [
    "## <font color=\"green\">Challenge: Creating a custom graph from existing one at Matplotlib library </font>"
   ]
  },
  {
   "cell_type": "markdown",
   "metadata": {},
   "source": [
    "Though cleaning data and getting a workable dataframe for visualization is the most time consuming process, my main challenge in this project was to create a meaningful visualization of data from existing graph options in the `matplotlib` library.\n",
    "\n",
    "Unfortunatly the existing options in the `matplotlib` library do not offer a simple solution for the type of graph that I am looking for. The reason is that usual data visualization graphs are designed to represent the changes of one value that is associated with changed in another value. For example changes in price versus changes in time. These two values can be easily measured against each other. However, the type of graph that I am looking for has 3 dimensions:\n",
    "\n",
    "- On one axis I want to have name of the company\n",
    "- On another axis I want to have a pair of consecutive dates\n",
    "- The intersection of a company with a pair of dates shows only a colored square\n",
    "\n",
    "For the purpose of this visualization, I explored `scatter plot` and `bar chart` as potential options that I can modify in some way to get the final out put. The normal way of getting an output for these plots is showed below:\n",
    "\n",
    "\n"
   ]
  },
  {
   "cell_type": "code",
   "execution_count": 155,
   "metadata": {},
   "outputs": [],
   "source": [
    "%matplotlib inline\n",
    "import matplotlib.pyplot as plt"
   ]
  },
  {
   "cell_type": "code",
   "execution_count": 156,
   "metadata": {},
   "outputs": [
    {
     "data": {
      "image/png": "[encoded data removed]",
      "text/plain": [
       "<Figure size 432x288 with 1 Axes>"
      ]
     },
     "metadata": {
      "needs_background": "light"
     },
     "output_type": "display_data"
    }
   ],
   "source": [
    "x_vals = ['a','b','c','d','f']\n",
    "y_vals = [1,3,2,3,4]\n",
    "colors = [(1,0,0,1),(0,1,0,.5),(1,0,0,.2),(1,0,0,.8),(0,1,0,.5)]\n",
    "for i in range(5):\n",
    "    plt.plot(x_vals[i],y_vals[i], 's',c = colors[i])"
   ]
  },
  {
   "cell_type": "code",
   "execution_count": 157,
   "metadata": {},
   "outputs": [
    {
     "data": {
      "image/png": "[encoded data removed]",
      "text/plain": [
       "<Figure size 432x288 with 1 Axes>"
      ]
     },
     "metadata": {
      "needs_background": "light"
     },
     "output_type": "display_data"
    }
   ],
   "source": [
    "x_vals = ['a','b','c','d']\n",
    "y_vals = [3,2,3,4]\n",
    "colors = [(1,0,0,1),(0,1,0,.5),(1,0,0,.2),(1,0,0,.8)]\n",
    "for i in range(4):\n",
    "    plt.bar(x_vals[i], y_vals[i], color = colors[i])"
   ]
  },
  {
   "cell_type": "markdown",
   "metadata": {},
   "source": [
    "### The solution"
   ]
  },
  {
   "cell_type": "markdown",
   "metadata": {},
   "source": [
    "The good thing about these plots is that it allows to draw multiple times on a single frame. In this way, I can visualize data points for a pair of dates and draw the next row of data on top of it. Bar chart has an advantage of lettimg me specify the bottom of the bar for each data point."
   ]
  },
  {
   "cell_type": "code",
   "execution_count": 158,
   "metadata": {},
   "outputs": [
    {
     "data": {
      "image/png": "[encoded data removed]",
      "text/plain": [
       "<Figure size 432x288 with 1 Axes>"
      ]
     },
     "metadata": {
      "needs_background": "light"
     },
     "output_type": "display_data"
    }
   ],
   "source": [
    "x_vals = ['a','b','c','d']\n",
    "y_vals = 1\n",
    "colors = [[(1,0,0,1),(0,1,0,.5),(1,0,0,.2),(1,0,0,.8),(0,1,0,.5)],[(0,1,0,.5),(1,0,0,.5),(1,0,0,1),(0,1,0,.8),(0,1,0,.75)]]\n",
    "for j in range(len(colors)):\n",
    "    for i in range(len(x_vals)):\n",
    "        plt.bar(x_vals[i], y_vals,bottom=j, color=colors[j][i])"
   ]
  },
  {
   "cell_type": "markdown",
   "metadata": {},
   "source": [
    "Now that I have the data cleaned, I can go with my creative plan of making a graph from these data. I decided to go with bar chart as the base of my plot but instead of having one bar for each company, I will have as many as needed for my delta_time values with the height of 1 and I will stack them on top of each other to represent a single bar that color changes within its way going up.\n",
    "\n",
    "I was able to achieve my goal using the following code:"
   ]
  },
  {
   "cell_type": "code",
   "execution_count": 161,
   "metadata": {},
   "outputs": [],
   "source": [
    "def plot_graph():\n",
    "    \"\"\"\n",
    "    function to plot the graph based on the user input and the number of companies they enter\n",
    "    \"\"\"\n",
    "    ######## Comment these lines for Jupyter #######\n",
    "    #company_data = get_data()    \n",
    "    #result = get_compared_datapoints(company_data)\n",
    "    #dataframe = pd.DataFrame(result)           \n",
    "    #new_dataframe= clean_dataframe(dataframe)\n",
    "    \n",
    "    cols = list(data_frame.columns)\n",
    "    companies = list(data_frame.index)\n",
    "\n",
    "    selection = int(input(\"Number of companies to compare: \"))\n",
    "    \n",
    "    x_companies = companies[:selection]\n",
    "    y_date = 1\n",
    "    \n",
    "    colors_data = data_frame.values[:selection]\n",
    "    \n",
    "    \n",
    "    for j in range(colors_data.shape[1]):\n",
    "        print(f'Day #{j} Done ...')\n",
    "        for i in range(selection):\n",
    "            #print(i,j,colors_data[i][j])\n",
    "            plt.bar(x_companies[i], y_date,bottom=j, color=colors_data[i][j])\n",
    "            \n",
    "\n",
    "\n",
    "    new_cols = []\n",
    "    i = 0\n",
    "    for col in cols:\n",
    "        new_cols.append('d'+str(i))\n",
    "        i += 1\n",
    "    \n",
    "        \n",
    "        \n",
    "    data_frame.columns= new_cols\n",
    "    \n",
    "    plt.title(f\"Correlation with {company}'s stock price change\")\n",
    "    plt.xticks(x_companies, rotation=90)\n",
    "    plt.ylabel(f\"From {start_date} to {till_date}\")\n",
    "    plt.xlabel(\"Companies\")"
   ]
  },
  {
   "cell_type": "code",
   "execution_count": null,
   "metadata": {},
   "outputs": [],
   "source": [
    "plot_graph()"
   ]
  },
  {
   "cell_type": "markdown",
   "metadata": {},
   "source": [
    "# Reflection and Next Steps"
   ]
  },
  {
   "cell_type": "markdown",
   "metadata": {},
   "source": [
    "I came up with a ton of learning points in this project and experienced lots of difficulties that took me out of my comfort zone. Dealing with large datasets and processing them for a specific use is really time consuming and mind intensive. I am happy with the result of this project so far but I believe the follwoing steps are necessary to make this program more uable:\n",
    "- Since I convert a dictionary to a dataframe, there is no rule for sorting companies that dataframe understands, so when I select to compare the company with 10 companies, the selected companies have no special order in the dataframe. I have to define a process for sorting companies in the dataframe from largest to the smallest one.\n",
    "\n",
    "- There is a bottle neck in this program at `get_compared_datapoints` function. This takes to much time when data files are large and the selected period of time is longe. I have to find a way to increase the efficiency and speed of the program.\n",
    "\n",
    "- I think for having an insightful output, each company must be compared with at least top 100 companies in the database. However, it is not usable to put all the data to a single plot. Using subplots and dividing plots to 10 plot in which every one entails 10 companies can be more understandable for users. At the next step, I have to discover using of subplots.\n",
    "\n",
    "- Though visualization helps to get a lot of information with a quick look, this data analysis can be useful when it is accompanied with some numerical values. For example having the percentage of green data points for each company can be so beneficial for having a more indepth study of the graph."
   ]
  }
 ],
 "metadata": {
  "kernelspec": {
   "display_name": "Python 3",
   "language": "python",
   "name": "python3"
  },
  "language_info": {
   "codemirror_mode": {
    "name": "ipython",
    "version": 3
   },
   "file_extension": ".py",
   "mimetype": "text/x-python",
   "name": "python",
   "nbconvert_exporter": "python",
   "pygments_lexer": "ipython3",
   "version": "3.8.3"
  }
 },
 "nbformat": 4,
 "nbformat_minor": 4
}
